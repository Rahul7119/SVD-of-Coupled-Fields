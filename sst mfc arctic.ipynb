{
 "cells": [
  {
   "cell_type": "markdown",
   "id": "2d7cb564",
   "metadata": {},
   "source": [
    "# Singular Value Decomposition of Coupled Fields."
   ]
  },
  {
   "cell_type": "raw",
   "id": "a7539c37",
   "metadata": {},
   "source": [
    "In PCA/EOF the data are arranged in the form of matrix i.e., for e.g., let’s say we\n",
    "have the measurements of SST at locations x 1 , x 2 , x 3 · · · etc. taken at time t 1 , t 2 · · · etc\n",
    "so for each time t we have SST measurements at location x 1 , x 2 , x 3 · · · . And the data\n",
    "are arranged in such a manner that in each row we have spatial variation of the variable\n",
    "at a particular time t and along column we have a time series of the variable at a par-\n",
    "ticular location x. Similarly, in SVD the data are arranged in the form of a co-variance\n",
    "matrix, but we are considering two scalar variables this time let’s say SST and SLP, the\n",
    "matrix need not to be square they can be of any dimensions but the measurements of the\n",
    "variables should be of equal time interval but they do not need to be of same locations.\n",
    "This is done because we are assuming the readings were taken simultaneously.\n",
    "The SVD yields two matrices which are orthogonal and contains singular value of the two\n",
    "variables each and a set of singular values associated with the pair of the two variables.\n",
    "Each pair describes the co-variance between the two variables, generally the first pair of\n",
    "pattern describes the largest fraction of co-variance between the variables and the order\n",
    "decreases along the diagonal."
   ]
  },
  {
   "cell_type": "raw",
   "id": "0a452f18",
   "metadata": {},
   "source": [
    "In short, the steps involved are:\n",
    "Consider we have gridded data of SST and SLP\n",
    "• Preparation of SST and SLP data into a matrix, say S and P\n",
    "• S and P should be time-mean-free, then create the covariance matrix. C = SP^T\n",
    "• Solve C = ULV^T to determine C’s singular value decomposition.\n",
    "• Calculate the expansion coefficients A = SU and B = PV to determine how the pattern\n",
    "oscillates in relation to its temporal evolution.\n",
    "• Find the modes that account for most of the covariance using the singular values."
   ]
  },
  {
   "cell_type": "raw",
   "id": "4066180b",
   "metadata": {},
   "source": [
    "So, what ultimately SVD does is reduce the large data that is used to study the\n",
    "phenomena to simple matrix forms and find those pair of variables which show strong\n",
    "variation or are strongly coupled and ignore the least ones which are considered noises of\n",
    "the input data"
   ]
  },
  {
   "cell_type": "markdown",
   "id": "1b65926a",
   "metadata": {},
   "source": [
    "# Import necessary libraries"
   ]
  },
  {
   "cell_type": "code",
   "execution_count": null,
   "id": "213792b4",
   "metadata": {},
   "outputs": [],
   "source": [
    "import numpy as np\n",
    "import scipy as sc\n",
    "import xarray as xr\n",
    "import netCDF4 as nc\n",
    "import matplotlib.pyplot as plt\n",
    "import pandas as pd\n",
    "import cartopy.crs as ccrs\n",
    "from matplotlib.ticker import MultipleLocator"
   ]
  },
  {
   "cell_type": "raw",
   "id": "85ea18d0",
   "metadata": {},
   "source": [
    "Here I am using NetCDF library to load the datafiles.\n",
    "My variables are SST and MFC\n",
    "Load your datafiles\n",
    "Define your variables\n",
    "Extract the longitude and latitude values"
   ]
  },
  {
   "cell_type": "code",
   "execution_count": null,
   "id": "ac799099",
   "metadata": {},
   "outputs": [],
   "source": [
    "# Open the netCDF file and extract the sst variable\n",
    "\n",
    "dm = nc.Dataset('input your file 1') # file 1\n",
    "ds = nc.Dataset('input your file 2') # file 2\n",
    "\n",
    "# Define your vaiables\n",
    "\n",
    "var_1 = dm.variables['Your Variable 1'][:] \n",
    "var_2 = ds.variables['Your Variable 2'][:]\n",
    "\n",
    "# Extract Longitude, Latitude and time values\n",
    "\n",
    "lon = ds.variables['Your Longitude variable Name'][:]\n",
    "lat = ds.variables['Your Latitude variable Name'][:]\n",
    "time = ds.variables['Your Time variable Name']\n"
   ]
  },
  {
   "cell_type": "markdown",
   "id": "62ea107e",
   "metadata": {},
   "source": [
    "# Reshape the Datafiles to 2-D arrays"
   ]
  },
  {
   "cell_type": "code",
   "execution_count": null,
   "id": "4504ee68",
   "metadata": {},
   "outputs": [],
   "source": [
    "# Reshape the sst array into a 2D array\n",
    "\n",
    "var_1_2d = sst.reshape(sst.shape[0], -1)\n",
    "var_2_2d = mfc.reshape(mfc.shape[0], -1)\n"
   ]
  },
  {
   "cell_type": "code",
   "execution_count": null,
   "id": "83ee664d",
   "metadata": {},
   "outputs": [],
   "source": [
    "# Create a list of times and locations for sst\n",
    "\n",
    "times = np.arange(sst.shape[0])\n",
    "lons, lats = np.meshgrid(ds.variables['Your Longitude variable Name'][:], ds.variables['YYour Latitude variable Name'][:])\n",
    "locations = [(lon, lat) for lon, lat in zip(lons.flatten(), lats.flatten())]"
   ]
  },
  {
   "cell_type": "markdown",
   "id": "9d071165",
   "metadata": {},
   "source": [
    "# Create pandas dataframe to easilly manipulate the datasets"
   ]
  },
  {
   "cell_type": "code",
   "execution_count": null,
   "id": "0c99080a",
   "metadata": {},
   "outputs": [],
   "source": [
    "# Create a pandas DataFrame with the reshaped SST data\n",
    "\n",
    "dfs = pd.DataFrame(data=sst_2d, index=times, columns=locations)\n"
   ]
  },
  {
   "cell_type": "code",
   "execution_count": null,
   "id": "735569b1",
   "metadata": {},
   "outputs": [],
   "source": [
    "# Create a pandas DataFrame with the reshaped MFC data\n",
    "\n",
    "dfm = pd.DataFrame(data=mfc_2d, index=times, columns=locations)\n"
   ]
  },
  {
   "cell_type": "raw",
   "id": "5d43196c",
   "metadata": {},
   "source": [
    "Now for the SVD to work we cannot have any NAN values in the data arrays\n",
    "So we need to get rid of all the NAN values and Reshape the dataset without any NAN values."
   ]
  },
  {
   "cell_type": "markdown",
   "id": "1e1b1315",
   "metadata": {},
   "source": [
    "# Reshape the dataset without NAN values"
   ]
  },
  {
   "cell_type": "code",
   "execution_count": null,
   "id": "ad0ed4aa",
   "metadata": {},
   "outputs": [],
   "source": [
    "# Drop columns containing no values for sst\n",
    "\n",
    "dfs.dropna(axis=1, how='all', inplace=True)\n",
    "print('Dimension of modified sst array ; ',dfs.shape)\n"
   ]
  },
  {
   "cell_type": "markdown",
   "id": "8c0693b1",
   "metadata": {},
   "source": [
    "# Convert the dataframe to numpy array"
   ]
  },
  {
   "cell_type": "code",
   "execution_count": null,
   "id": "1a81b93b",
   "metadata": {},
   "outputs": [],
   "source": [
    "# Convert the DataFrame to a NumPy array\n",
    "\n",
    "ds1_array = dfs.to_numpy()\n",
    "dm1_array = dfm.to_numpy()"
   ]
  },
  {
   "cell_type": "code",
   "execution_count": null,
   "id": "0c7e41d7",
   "metadata": {},
   "outputs": [],
   "source": [
    "# shape of new numpy array\n",
    "\n",
    "print(ds1_array.shape)\n",
    "print(dm1_array.shape)"
   ]
  },
  {
   "cell_type": "markdown",
   "id": "412fb361",
   "metadata": {},
   "source": [
    "# Detrend the Datasets"
   ]
  },
  {
   "cell_type": "code",
   "execution_count": null,
   "id": "1122786a",
   "metadata": {},
   "outputs": [],
   "source": [
    "# detrend the data\n",
    "\n",
    "ds1_array = sc.signal.detrend(ds1_array.T, type='constant')\n",
    "ds1_array = ds1_array.T\n",
    "print('Dimension of modified sst array :', ds1_array.shape)\n",
    "\n",
    "dm1_array = sc.signal.detrend(dm1_array.T, type='constant')\n",
    "dm1_array = dm1_array.T\n",
    "print('Dimension of modified mfc array :', dm1_array.shape)"
   ]
  },
  {
   "cell_type": "markdown",
   "id": "e2d7501b",
   "metadata": {},
   "source": [
    "# Create Covariance Matrix"
   ]
  },
  {
   "cell_type": "code",
   "execution_count": null,
   "id": "11d7d4ad",
   "metadata": {},
   "outputs": [],
   "source": [
    "# covariance matrix\n",
    "\n",
    "c = ds1_array.T.dot(dm1_array) # sst x mfc\n",
    "print('Dimension Of Covariance Matrix :', c.shape)"
   ]
  },
  {
   "cell_type": "markdown",
   "id": "2ba68a78",
   "metadata": {},
   "source": [
    "# Perform Singular Value Decomposition"
   ]
  },
  {
   "cell_type": "code",
   "execution_count": null,
   "id": "a3add883",
   "metadata": {},
   "outputs": [],
   "source": [
    "# perform svd\n",
    "\n",
    "u, s, vt = np.linalg.svd(c,full_matrices=True)\n",
    "print('shape of u', u.shape)\n",
    "print('shape of s', s.shape)\n",
    "print('shape of vt', vt.shape)"
   ]
  },
  {
   "cell_type": "markdown",
   "id": "f1971b08",
   "metadata": {},
   "source": [
    "# Calculate the square covariance fraction"
   ]
  },
  {
   "cell_type": "code",
   "execution_count": null,
   "id": "4cf1a75c",
   "metadata": {},
   "outputs": [],
   "source": [
    "# Calculate SCF for each mode\n",
    "\n",
    "SCF = (s**2) / np.sum(s**2)"
   ]
  },
  {
   "cell_type": "markdown",
   "id": "1f9aae2a",
   "metadata": {},
   "source": [
    "# Find the Expansion Coefficients"
   ]
  },
  {
   "cell_type": "code",
   "execution_count": null,
   "id": "608be8ec",
   "metadata": {},
   "outputs": [],
   "source": [
    "# Expansion Coefficients\n",
    "\n",
    "a = ds1_array.dot(u) # sst\n",
    "b = dm1_array.dot(vt) # mfc\n",
    "\n",
    "T = np.linspace(1980,2020,40) # years"
   ]
  },
  {
   "cell_type": "markdown",
   "id": "fa49cbf8",
   "metadata": {},
   "source": [
    "# Calculate the Correlation Coefficients"
   ]
  },
  {
   "cell_type": "code",
   "execution_count": null,
   "id": "2ac93b58",
   "metadata": {},
   "outputs": [],
   "source": [
    "# Extract the first expansion coefficients of SST and MFC\n",
    "\n",
    "a_first_three = a[:, 0]\n",
    "b_first_three = b[:, 0]\n",
    "\n",
    "# Calculate the correlation matrix\n",
    "\n",
    "corr_coef = np.corrcoef((a_first_three.T), (b_first_three.T))\n",
    "mode_index = 1\n",
    "\n",
    "print(f\"Mode {mode_index}: SCF={SCF[0]*100:.2f}%, corr_coef={corr_coef[0,1]:.2f}\")\n",
    "\n",
    "#detrended\n",
    "\n",
    "corr_coef = np.corrcoef(sc.signal.detrend(a_first_three.T), sc.signal.detrend(b_first_three.T))\n",
    "print(f\"Mode {mode_index} detrended: SCF={SCF[0]*100:.2f}%, corr_coef={corr_coef[0,1]:.2f}\")"
   ]
  },
  {
   "cell_type": "code",
   "execution_count": null,
   "id": "2153c593",
   "metadata": {},
   "outputs": [],
   "source": [
    "# Extract the second expansion coefficients of SST and MFC\n",
    "\n",
    "a_first_three = a[:, 1:2]\n",
    "b_first_three = b[:, 1:2]\n",
    "\n",
    "# Calculate the correlation matrix\n",
    "\n",
    "corr_coef = np.corrcoef((a_first_three.T), (b_first_three.T))\n",
    "mode_index = 2\n",
    "print(f\"Mode {mode_index}: SCF={SCF[1]*100:.2f}%, corr_coef={corr_coef[0,1]:.2f}\")\n",
    "\n",
    "#detrended\n",
    "\n",
    "corr_coef = np.corrcoef(sc.signal.detrend(a_first_three.T), sc.signal.detrend(b_first_three.T))\n",
    "print(f\"Mode {mode_index} detrended: SCF={SCF[1]*100:.2f}%, corr_coef={corr_coef[0,1]:.2f}\")"
   ]
  },
  {
   "cell_type": "code",
   "execution_count": null,
   "id": "eaf91c2d",
   "metadata": {},
   "outputs": [],
   "source": [
    "# Extract the third expansion coefficients of SST and MFC\n",
    "\n",
    "a_first_three = a[:, 2:3]\n",
    "b_first_three = b[:, 2:3]\n",
    "\n",
    "# Calculate the correlation matrix\n",
    "\n",
    "corr_coef = np.corrcoef((a_first_three.T), (b_first_three.T))\n",
    "mode_index = 3\n",
    "print(f\"Mode {mode_index}: SCF={SCF[2]*100:.2f}%, corr_coef={corr_coef[0,1]:.2f}\")\n",
    "\n",
    "#detrended\n",
    "\n",
    "corr_coef = np.corrcoef(sc.signal.detrend(a_first_three.T), sc.signal.detrend(b_first_three.T))\n",
    "print(f\"Mode {mode_index} detrended: SCF={SCF[2]*100:.2f}%, corr_coef={corr_coef[0,1]:.2f}\")"
   ]
  },
  {
   "cell_type": "markdown",
   "id": "3b577070",
   "metadata": {},
   "source": [
    "# Plot the Timeseries of your variables"
   ]
  },
  {
   "cell_type": "code",
   "execution_count": null,
   "id": "782dd935",
   "metadata": {},
   "outputs": [],
   "source": [
    "# plot\n",
    "\n",
    "fig = plt.figure(figsize=(8, 6))\n",
    "\n",
    "# Plot the expansion coefficients for the first three modes\n",
    "for i in range(3):\n",
    "    plt.plot(T, a[:, i], label=f'Mode {i+1} Var name')\n",
    "    plt.plot(T, b[:, i], label=f'Mode {i+1} Var name')\n",
    "    plt.axhline(y=0, color='black', linestyle='--')\n",
    "\n",
    "    # Add labels and legend\n",
    "    plt.xlabel('X label')\n",
    "    plt.ylabel('Y label')\n",
    "    plt.title('Title')\n",
    "    plt.legend()\n",
    "\n",
    "    # Save and show the figure\n",
    "    plt.tight_layout()\n",
    "    plt.show()\n"
   ]
  },
  {
   "cell_type": "raw",
   "id": "b19a768a",
   "metadata": {},
   "source": [
    "Reshape your dataset you modified to eliminate the NAN values \n",
    "back to the original dimension of your reshaped 2-D array."
   ]
  },
  {
   "cell_type": "markdown",
   "id": "44153a8f",
   "metadata": {},
   "source": [
    "# Reshape your datasets back to the original dimension"
   ]
  },
  {
   "cell_type": "code",
   "execution_count": null,
   "id": "63792d07",
   "metadata": {},
   "outputs": [],
   "source": [
    "u = u.T"
   ]
  },
  {
   "cell_type": "code",
   "execution_count": null,
   "id": "fb33c191",
   "metadata": {},
   "outputs": [],
   "source": [
    "# Create a pandas DataFrame with the reshaped sst data\n",
    "\n",
    "dfs = pd.DataFrame(data=sst_2d, index=times, columns=locations)\n",
    "dfs.shape"
   ]
  },
  {
   "cell_type": "code",
   "execution_count": null,
   "id": "1c74a06b",
   "metadata": {},
   "outputs": [],
   "source": [
    "# Get the list of columns with NaN values\n",
    "nan_columns = dfs.columns[dfs.isna().any()].tolist()\n",
    "print(len(nan_columns))"
   ]
  },
  {
   "cell_type": "code",
   "execution_count": null,
   "id": "fd823150",
   "metadata": {},
   "outputs": [],
   "source": [
    "# Get the index values of the columns that contain NaN values\n",
    "nan_column_indices = dfs.columns.get_indexer(nan_columns)\n",
    "nan_column_indices"
   ]
  },
  {
   "cell_type": "code",
   "execution_count": null,
   "id": "c5f5c478",
   "metadata": {},
   "outputs": [],
   "source": [
    "c=np.nan"
   ]
  },
  {
   "cell_type": "code",
   "execution_count": null,
   "id": "d37b4d39",
   "metadata": {},
   "outputs": [],
   "source": [
    "u = u.astype(float)"
   ]
  },
  {
   "cell_type": "code",
   "execution_count": null,
   "id": "28d5871e",
   "metadata": {},
   "outputs": [],
   "source": [
    "# reshaping the modified array to the original dimension of the array\n",
    "\n",
    "for x in nan_column_indices:\n",
    "    u = np.insert(u, x, c, axis=1)\n",
    "u.shape"
   ]
  },
  {
   "cell_type": "markdown",
   "id": "bc0445de",
   "metadata": {},
   "source": [
    "# Plot the spatial patterns"
   ]
  },
  {
   "cell_type": "code",
   "execution_count": null,
   "id": "c3b028dc",
   "metadata": {},
   "outputs": [],
   "source": [
    "levels = np.linspace(-0.03, 0.06, 10)\n",
    "\n",
    "for i in range(3):\n",
    "    sst_mode = u[i].reshape(sst.shape[1], sst.shape[2])  # shape: (lat, lon)\n",
    "\n",
    "    # Plot the singular modes as contour maps with land\n",
    "    fig = plt.figure(figsize=(10, 8))\n",
    "\n",
    "    # Plot sst_mode\n",
    "    ax2 = fig.add_subplot(111, projection=ccrs.PlateCarree())\n",
    "    ax2.set_extent([dm.variables[\"Your Longitude variable Name\"][:].min(), dm.variables[\"Your Longitude variable Name\"][:].max(),\n",
    "                    dm.variables[\"Your Latitude variable Name\"][:].min(), dm.variables[\"Your Latitude variable Name\"][:].max()], crs=ccrs.PlateCarree())\n",
    "    ax2.coastlines()\n",
    "    \n",
    "    cf = ax2.contourf(dm.variables[\"Your Longitude variable Name\"][:], dm.variables[\"Your Latitude variable Name\"][:], sst_mode, levels=levels,\n",
    "                      transform=ccrs.PlateCarree(), cmap='coolwarm', extend='both')\n",
    "\n",
    "   \n",
    "\n",
    "    ax2.set_title(f'Singular Mode {i + 1} Title',fontsize=10)\n",
    "    \n",
    "    # Add colorbar with label\n",
    "    cbar = plt.colorbar(cf, shrink=0.37, pad=0.04)\n",
    "    cbar.ax.tick_params(labelsize=8)\n",
    "    \n",
    "\n",
    "    # Add longitude and latitude gridlines\n",
    "    gl = ax2.gridlines(crs=ccrs.PlateCarree(), draw_labels=True,\n",
    "                       linewidth=1, color='gray', alpha=0.005, linestyle='-')\n",
    "\n",
    "    \n",
    "    gl.xlabels_top = False\n",
    "    gl.ylabels_left = True\n",
    "    gl.ylabels_right = False\n",
    "    gl.xlabel_style = {'size': 9, 'color': 'black'}\n",
    "    gl.ylabel_style = {'size': 9, 'color': 'black'}\n",
    "\n",
    "    ax2.set_aspect(2.8)\n",
    "    plt.tight_layout()\n",
    "    plt.show()\n"
   ]
  },
  {
   "cell_type": "code",
   "execution_count": null,
   "id": "f5361a79",
   "metadata": {},
   "outputs": [],
   "source": [
    "levels = np.linspace(-0.03, 0.06, 10)\n",
    "\n",
    "for i in range(3):\n",
    "    mfc_mode = vt[i].reshape(sst.shape[1], sst.shape[2])  # shape: (lat, lon)\n",
    "\n",
    "    # Plot the singular modes as contour maps with land\n",
    "    fig = plt.figure(figsize=(10, 8))\n",
    "\n",
    "    # Plot sst_mode\n",
    "    ax2 = fig.add_subplot(111, projection=ccrs.PlateCarree())\n",
    "    ax2.set_extent([dm.variables[\"Your Longitude variable Name\"][:].min(), dm.variables[\"Your Longitude variable Name\"][:].max(),\n",
    "                    dm.variables[\"Your Latitude variable Name\"][:].min(), dm.variables[\"Your Latitude variable Name\"][:].max()], crs=ccrs.PlateCarree())\n",
    "    ax2.coastlines()\n",
    "    cf = ax2.contourf(dm.variables[\"Your Longitude variable Name\"][:], dm.variables[\"Your Latitude variable Name\"][:], mfc_mode, levels=levels,\n",
    "                      transform=ccrs.PlateCarree(), cmap='coolwarm', extend='both')\n",
    "\n",
    "   \n",
    "\n",
    "    ax2.set_title(f'Singular Mode {i + 1} Title',fontsize=10)\n",
    "    \n",
    "    # Add colorbar with label\n",
    "    cbar = plt.colorbar(cf, shrink=0.37, pad=0.04)\n",
    "    cbar.ax.tick_params(labelsize=8)\n",
    "    \n",
    "\n",
    "    # Add longitude and latitude gridlines\n",
    "    gl = ax2.gridlines(crs=ccrs.PlateCarree(), draw_labels=True,\n",
    "                       linewidth=1, color='gray', alpha=0.005, linestyle='-')\n",
    "\n",
    "    \n",
    "    gl.xlabels_top = False\n",
    "    gl.ylabels_left = True\n",
    "    gl.ylabels_right = False\n",
    "    gl.xlabel_style = {'size': 9, 'color': 'black'}\n",
    "    gl.ylabel_style = {'size': 9, 'color': 'black'}\n",
    "\n",
    "    ax2.set_aspect(2.8)\n",
    "    plt.tight_layout()\n",
    "    plt.show()\n"
   ]
  }
 ],
 "metadata": {
  "kernelspec": {
   "display_name": "Python 3 (ipykernel)",
   "language": "python",
   "name": "python3"
  },
  "language_info": {
   "codemirror_mode": {
    "name": "ipython",
    "version": 3
   },
   "file_extension": ".py",
   "mimetype": "text/x-python",
   "name": "python",
   "nbconvert_exporter": "python",
   "pygments_lexer": "ipython3",
   "version": "3.9.13"
  }
 },
 "nbformat": 4,
 "nbformat_minor": 5
}
